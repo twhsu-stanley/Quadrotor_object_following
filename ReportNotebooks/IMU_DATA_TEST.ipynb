{
 "cells": [
  {
   "cell_type": "code",
   "execution_count": 31,
   "metadata": {},
   "outputs": [],
   "source": [
    "import pandas as pd\n",
    "import matplotlib.pyplot as plt\n",
    "import numpy as np"
   ]
  },
  {
   "cell_type": "code",
   "execution_count": 32,
   "metadata": {},
   "outputs": [],
   "source": [
    "import os\n",
    "from pathlib import Path\n",
    "dir = os.path.realpath('..')\n",
    "# `cwd`: current directory is straightforward\n",
    "# cwd = Path.cwd()\n",
    "# datfile = r'calibration_data/RampTest_2022-01-13_202229.csv'\n",
    "# datfile = r'calibration_data/StepsTest_2022-01-13_202828.csv'\n",
    "datfile = r'calibration_data/8.csv'\n",
    "fname = os.path.join(dir, datfile)\n",
    "\n",
    "df = pd.read_csv(fname)"
   ]
  },
  {
   "cell_type": "code",
   "execution_count": 33,
   "metadata": {},
   "outputs": [],
   "source": [
    "df['time_s']=(df['imu_time_ns'] - df['imu_time_ns'][0] ) /np.power(10,9)"
   ]
  },
  {
   "cell_type": "code",
   "execution_count": 34,
   "metadata": {},
   "outputs": [
    {
     "name": "stderr",
     "output_type": "stream",
     "text": [
      "/home/student/.local/lib/python3.6/site-packages/ipykernel_launcher.py:1: SettingWithCopyWarning: \n",
      "A value is trying to be set on a copy of a slice from a DataFrame\n",
      "\n",
      "See the caveats in the documentation: https://pandas.pydata.org/pandas-docs/stable/user_guide/indexing.html#returning-a-view-versus-a-copy\n",
      "  \"\"\"Entry point for launching an IPython kernel.\n"
     ]
    }
   ],
   "source": [
    "df.time_s[0] = 0.0"
   ]
  },
  {
   "cell_type": "code",
   "execution_count": 35,
   "metadata": {},
   "outputs": [
    {
     "data": {
      "text/html": [
       "<div>\n",
       "<style scoped>\n",
       "    .dataframe tbody tr th:only-of-type {\n",
       "        vertical-align: middle;\n",
       "    }\n",
       "\n",
       "    .dataframe tbody tr th {\n",
       "        vertical-align: top;\n",
       "    }\n",
       "\n",
       "    .dataframe thead th {\n",
       "        text-align: right;\n",
       "    }\n",
       "</style>\n",
       "<table border=\"1\" class=\"dataframe\">\n",
       "  <thead>\n",
       "    <tr style=\"text-align: right;\">\n",
       "      <th></th>\n",
       "      <th>loop_index</th>\n",
       "      <th>last_step_ns</th>\n",
       "      <th>imu_time_ns</th>\n",
       "      <th>bmp_time_ns</th>\n",
       "      <th>epoch_time_ns</th>\n",
       "      <th>v_batt</th>\n",
       "      <th>alt_bmp_raw</th>\n",
       "      <th>bmp_temp</th>\n",
       "      <th>gyro_roll</th>\n",
       "      <th>gyro_pitch</th>\n",
       "      <th>...</th>\n",
       "      <th>tSM</th>\n",
       "      <th>tXBEE</th>\n",
       "      <th>tGPS</th>\n",
       "      <th>tPNI</th>\n",
       "      <th>tNAV</th>\n",
       "      <th>tGUI</th>\n",
       "      <th>tCTR</th>\n",
       "      <th>tLOG</th>\n",
       "      <th>tNTP</th>\n",
       "      <th>time_s</th>\n",
       "    </tr>\n",
       "  </thead>\n",
       "  <tbody>\n",
       "    <tr>\n",
       "      <th>0</th>\n",
       "      <td>1</td>\n",
       "      <td>1642570353738130197</td>\n",
       "      <td>1642570353736812155</td>\n",
       "      <td>1642570353736812155</td>\n",
       "      <td>1642570353738136197</td>\n",
       "      <td>16.8</td>\n",
       "      <td>347.5923</td>\n",
       "      <td>42.79</td>\n",
       "      <td>-0.0234</td>\n",
       "      <td>-0.0075</td>\n",
       "      <td>...</td>\n",
       "      <td>1642570353736848322</td>\n",
       "      <td>1642570353736835822</td>\n",
       "      <td>1642570353736860405</td>\n",
       "      <td>1642570353736861947</td>\n",
       "      <td>1642570353737127113</td>\n",
       "      <td>1642570353738081322</td>\n",
       "      <td>1642570353738131988</td>\n",
       "      <td>1642570353732130488</td>\n",
       "      <td>0</td>\n",
       "      <td>0.000000</td>\n",
       "    </tr>\n",
       "    <tr>\n",
       "      <th>1</th>\n",
       "      <td>2</td>\n",
       "      <td>1642570353742293780</td>\n",
       "      <td>1642570353741899613</td>\n",
       "      <td>1642570353741899613</td>\n",
       "      <td>1642570353742297613</td>\n",
       "      <td>16.8</td>\n",
       "      <td>347.5923</td>\n",
       "      <td>42.79</td>\n",
       "      <td>-0.0224</td>\n",
       "      <td>-0.0107</td>\n",
       "      <td>...</td>\n",
       "      <td>1642570353741948488</td>\n",
       "      <td>1642570353741932780</td>\n",
       "      <td>1642570353741962863</td>\n",
       "      <td>1642570353741964447</td>\n",
       "      <td>1642570353742260613</td>\n",
       "      <td>1642570353742263947</td>\n",
       "      <td>1642570353742295322</td>\n",
       "      <td>1642570353738149072</td>\n",
       "      <td>0</td>\n",
       "      <td>0.005087</td>\n",
       "    </tr>\n",
       "    <tr>\n",
       "      <th>2</th>\n",
       "      <td>3</td>\n",
       "      <td>1642570353747256655</td>\n",
       "      <td>1642570353746895655</td>\n",
       "      <td>1642570353746895655</td>\n",
       "      <td>1642570353747262030</td>\n",
       "      <td>16.8</td>\n",
       "      <td>347.5923</td>\n",
       "      <td>42.79</td>\n",
       "      <td>-0.0234</td>\n",
       "      <td>-0.0107</td>\n",
       "      <td>...</td>\n",
       "      <td>1642570353746936738</td>\n",
       "      <td>1642570353746922613</td>\n",
       "      <td>1642570353746950613</td>\n",
       "      <td>1642570353746952155</td>\n",
       "      <td>1642570353747221822</td>\n",
       "      <td>1642570353747224530</td>\n",
       "      <td>1642570353747258405</td>\n",
       "      <td>1642570353742305197</td>\n",
       "      <td>0</td>\n",
       "      <td>0.010084</td>\n",
       "    </tr>\n",
       "    <tr>\n",
       "      <th>3</th>\n",
       "      <td>4</td>\n",
       "      <td>1642570353752171822</td>\n",
       "      <td>1642570353751854113</td>\n",
       "      <td>1642570353751854113</td>\n",
       "      <td>1642570353752175613</td>\n",
       "      <td>16.8</td>\n",
       "      <td>347.5923</td>\n",
       "      <td>42.79</td>\n",
       "      <td>-0.0224</td>\n",
       "      <td>-0.0075</td>\n",
       "      <td>...</td>\n",
       "      <td>1642570353751892072</td>\n",
       "      <td>1642570353751879322</td>\n",
       "      <td>1642570353751905572</td>\n",
       "      <td>1642570353751907322</td>\n",
       "      <td>1642570353752145280</td>\n",
       "      <td>1642570353752147363</td>\n",
       "      <td>1642570353752173155</td>\n",
       "      <td>1642570353747269155</td>\n",
       "      <td>0</td>\n",
       "      <td>0.015042</td>\n",
       "    </tr>\n",
       "    <tr>\n",
       "      <th>4</th>\n",
       "      <td>5</td>\n",
       "      <td>1642570353757168863</td>\n",
       "      <td>1642570353756817738</td>\n",
       "      <td>1642570353756817738</td>\n",
       "      <td>1642570353757172488</td>\n",
       "      <td>16.8</td>\n",
       "      <td>347.5923</td>\n",
       "      <td>42.79</td>\n",
       "      <td>-0.0224</td>\n",
       "      <td>-0.0128</td>\n",
       "      <td>...</td>\n",
       "      <td>1642570353756853697</td>\n",
       "      <td>1642570353756840905</td>\n",
       "      <td>1642570353756865113</td>\n",
       "      <td>1642570353756866613</td>\n",
       "      <td>1642570353757139322</td>\n",
       "      <td>1642570353757141863</td>\n",
       "      <td>1642570353757170197</td>\n",
       "      <td>1642570353752181113</td>\n",
       "      <td>0</td>\n",
       "      <td>0.020006</td>\n",
       "    </tr>\n",
       "  </tbody>\n",
       "</table>\n",
       "<p>5 rows × 116 columns</p>\n",
       "</div>"
      ],
      "text/plain": [
       "   loop_index         last_step_ns          imu_time_ns          bmp_time_ns  \\\n",
       "0           1  1642570353738130197  1642570353736812155  1642570353736812155   \n",
       "1           2  1642570353742293780  1642570353741899613  1642570353741899613   \n",
       "2           3  1642570353747256655  1642570353746895655  1642570353746895655   \n",
       "3           4  1642570353752171822  1642570353751854113  1642570353751854113   \n",
       "4           5  1642570353757168863  1642570353756817738  1642570353756817738   \n",
       "\n",
       "         epoch_time_ns  v_batt  alt_bmp_raw  bmp_temp  gyro_roll  gyro_pitch  \\\n",
       "0  1642570353738136197    16.8     347.5923     42.79    -0.0234     -0.0075   \n",
       "1  1642570353742297613    16.8     347.5923     42.79    -0.0224     -0.0107   \n",
       "2  1642570353747262030    16.8     347.5923     42.79    -0.0234     -0.0107   \n",
       "3  1642570353752175613    16.8     347.5923     42.79    -0.0224     -0.0075   \n",
       "4  1642570353757172488    16.8     347.5923     42.79    -0.0224     -0.0128   \n",
       "\n",
       "   ...                  tSM                tXBEE                 tGPS  \\\n",
       "0  ...  1642570353736848322  1642570353736835822  1642570353736860405   \n",
       "1  ...  1642570353741948488  1642570353741932780  1642570353741962863   \n",
       "2  ...  1642570353746936738  1642570353746922613  1642570353746950613   \n",
       "3  ...  1642570353751892072  1642570353751879322  1642570353751905572   \n",
       "4  ...  1642570353756853697  1642570353756840905  1642570353756865113   \n",
       "\n",
       "                  tPNI                 tNAV                 tGUI  \\\n",
       "0  1642570353736861947  1642570353737127113  1642570353738081322   \n",
       "1  1642570353741964447  1642570353742260613  1642570353742263947   \n",
       "2  1642570353746952155  1642570353747221822  1642570353747224530   \n",
       "3  1642570353751907322  1642570353752145280  1642570353752147363   \n",
       "4  1642570353756866613  1642570353757139322  1642570353757141863   \n",
       "\n",
       "                  tCTR                 tLOG  tNTP    time_s  \n",
       "0  1642570353738131988  1642570353732130488     0  0.000000  \n",
       "1  1642570353742295322  1642570353738149072     0  0.005087  \n",
       "2  1642570353747258405  1642570353742305197     0  0.010084  \n",
       "3  1642570353752173155  1642570353747269155     0  0.015042  \n",
       "4  1642570353757170197  1642570353752181113     0  0.020006  \n",
       "\n",
       "[5 rows x 116 columns]"
      ]
     },
     "execution_count": 35,
     "metadata": {},
     "output_type": "execute_result"
    }
   ],
   "source": [
    "df.head()"
   ]
  },
  {
   "cell_type": "code",
   "execution_count": 36,
   "metadata": {},
   "outputs": [
    {
     "data": {
      "text/plain": [
       "<AxesSubplot:>"
      ]
     },
     "execution_count": 36,
     "metadata": {},
     "output_type": "execute_result"
    },
    {
     "data": {
      "image/png": "[encoded data removed]",
      "text/plain": [
       "<Figure size 432x288 with 1 Axes>"
      ]
     },
     "metadata": {
      "needs_background": "light"
     },
     "output_type": "display_data"
    }
   ],
   "source": [
    "df[['roll','pitch','yaw']].plot()"
   ]
  },
  {
   "cell_type": "code",
   "execution_count": 40,
   "metadata": {},
   "outputs": [
    {
     "data": {
      "text/plain": [
       "Text(0.5, 0, 'time (s)')"
      ]
     },
     "execution_count": 40,
     "metadata": {},
     "output_type": "execute_result"
    },
    {
     "data": {
      "image/png": "[encoded data removed]",
      "text/plain": [
       "<Figure size 432x288 with 1 Axes>"
      ]
     },
     "metadata": {
      "needs_background": "light"
     },
     "output_type": "display_data"
    }
   ],
   "source": [
    "plt.plot(df.time_s,df[['roll','pitch','yaw']])\n",
    "plt.legend(['roll','pitch','yaw'])\n",
    "plt.ylabel(\"angle (radians??)\")\n",
    "plt.xlabel(\"time (s)\")"
   ]
  },
  {
   "cell_type": "code",
   "execution_count": null,
   "metadata": {},
   "outputs": [],
   "source": []
  }
 ],
 "metadata": {
  "interpreter": {
   "hash": "31f2aee4e71d21fbe5cf8b01ff0e069b9275f58929596ceb00d14d90e3e16cd6"
  },
  "kernelspec": {
   "display_name": "Python 3.6.9 64-bit",
   "language": "python",
   "name": "python3"
  },
  "language_info": {
   "codemirror_mode": {
    "name": "ipython",
    "version": 3
   },
   "file_extension": ".py",
   "mimetype": "text/x-python",
   "name": "python",
   "nbconvert_exporter": "python",
   "pygments_lexer": "ipython3",
   "version": "3.6.9"
  },
  "orig_nbformat": 4
 },
 "nbformat": 4,
 "nbformat_minor": 2
}
